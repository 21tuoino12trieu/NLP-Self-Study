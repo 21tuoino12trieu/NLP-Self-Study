{
 "cells": [
  {
   "cell_type": "markdown",
   "id": "97e1bc74",
   "metadata": {},
   "source": [
    "# Bags of Words"
   ]
  },
  {
   "cell_type": "code",
   "execution_count": 2,
   "id": "94869cfb",
   "metadata": {},
   "outputs": [],
   "source": [
    "import pandas as pd\n",
    "import numpy as np\n",
    "import collections"
   ]
  },
  {
   "cell_type": "code",
   "execution_count": 10,
   "id": "42eef0bc",
   "metadata": {},
   "outputs": [],
   "source": [
    "doc1 = 'Harry Potter is an amzing movie !'\n",
    "doc2 = 'Harry Potter is the best movie !'\n",
    "doc3 = 'Harry Potter is so great !'"
   ]
  },
  {
   "cell_type": "code",
   "execution_count": 11,
   "id": "a9df143c",
   "metadata": {},
   "outputs": [
    {
     "data": {
      "text/plain": [
       "['harry', 'potter', 'is', 'so', 'great']"
      ]
     },
     "execution_count": 11,
     "metadata": {},
     "output_type": "execute_result"
    }
   ],
   "source": [
    "# thực hiện việc loại bỏ tất cả ký tự đặc biệt và dấu câu khỏi chuỗi, chỉ chừa lại các chữ cái và số, \n",
    "# sau đó chuyển tất cả chữ cái về dạng chữ thường. Mục đích là để chuẩn hóa dữ liệu văn bản, \n",
    "# giúp dễ dàng xử lý và phân tích hơn.\n",
    "import re\n",
    "doc1 = re.sub(r\"[^a-zA-Z0-9]\",\" \",doc1.lower()).split()\n",
    "doc2 = re.sub(r\"[^a-zA-Z0-9]\",\" \",doc2.lower()).split()\n",
    "doc3 = re.sub(r\"[^a-zA-Z0-9]\",\" \",doc3.lower()).split()\n",
    "doc1"
   ]
  },
  {
   "cell_type": "code",
   "execution_count": 12,
   "id": "0fee813e",
   "metadata": {},
   "outputs": [
    {
     "data": {
      "text/plain": [
       "['harry', 'potter', 'is', 'the', 'best', 'movie']"
      ]
     },
     "execution_count": 12,
     "metadata": {},
     "output_type": "execute_result"
    }
   ],
   "source": [
    "doc2"
   ]
  },
  {
   "cell_type": "code",
   "execution_count": 13,
   "id": "da91e132",
   "metadata": {},
   "outputs": [
    {
     "data": {
      "text/plain": [
       "['harry', 'potter', 'is', 'so', 'great']"
      ]
     },
     "execution_count": 13,
     "metadata": {},
     "output_type": "execute_result"
    }
   ],
   "source": [
    "doc3"
   ]
  },
  {
   "cell_type": "code",
   "execution_count": 14,
   "id": "2aa5e4c7",
   "metadata": {},
   "outputs": [
    {
     "data": {
      "text/plain": [
       "{'amzing',\n",
       " 'an',\n",
       " 'best',\n",
       " 'great',\n",
       " 'harry',\n",
       " 'is',\n",
       " 'movie',\n",
       " 'potter',\n",
       " 'so',\n",
       " 'the'}"
      ]
     },
     "execution_count": 14,
     "metadata": {},
     "output_type": "execute_result"
    }
   ],
   "source": [
    "all_words = set(doc1+doc2+doc3)\n",
    "all_words"
   ]
  },
  {
   "cell_type": "code",
   "execution_count": 21,
   "id": "acfdbc5a",
   "metadata": {},
   "outputs": [],
   "source": [
    "def BOWrepresentation(all_words, doc):\n",
    "    bow = dict.fromkeys(all_words,0)\n",
    "    for word in doc:\n",
    "        bow[word] = doc.count(word)\n",
    "    return bow"
   ]
  },
  {
   "cell_type": "code",
   "execution_count": 23,
   "id": "ac4d95b7",
   "metadata": {},
   "outputs": [
    {
     "data": {
      "text/plain": [
       "{'so': 0,\n",
       " 'harry': 1,\n",
       " 'is': 1,\n",
       " 'great': 0,\n",
       " 'potter': 1,\n",
       " 'movie': 1,\n",
       " 'best': 0,\n",
       " 'an': 1,\n",
       " 'amzing': 1,\n",
       " 'the': 0}"
      ]
     },
     "execution_count": 23,
     "metadata": {},
     "output_type": "execute_result"
    }
   ],
   "source": [
    "bow1 = BOWrepresentation(all_words,doc1)\n",
    "bow1"
   ]
  },
  {
   "cell_type": "code",
   "execution_count": 24,
   "id": "a3b7c3db",
   "metadata": {},
   "outputs": [
    {
     "data": {
      "text/html": [
       "<div>\n",
       "<style scoped>\n",
       "    .dataframe tbody tr th:only-of-type {\n",
       "        vertical-align: middle;\n",
       "    }\n",
       "\n",
       "    .dataframe tbody tr th {\n",
       "        vertical-align: top;\n",
       "    }\n",
       "\n",
       "    .dataframe thead th {\n",
       "        text-align: right;\n",
       "    }\n",
       "</style>\n",
       "<table border=\"1\" class=\"dataframe\">\n",
       "  <thead>\n",
       "    <tr style=\"text-align: right;\">\n",
       "      <th></th>\n",
       "      <th>so</th>\n",
       "      <th>harry</th>\n",
       "      <th>is</th>\n",
       "      <th>great</th>\n",
       "      <th>potter</th>\n",
       "      <th>movie</th>\n",
       "      <th>best</th>\n",
       "      <th>an</th>\n",
       "      <th>amzing</th>\n",
       "      <th>the</th>\n",
       "    </tr>\n",
       "  </thead>\n",
       "  <tbody>\n",
       "    <tr>\n",
       "      <th>0</th>\n",
       "      <td>0</td>\n",
       "      <td>1</td>\n",
       "      <td>1</td>\n",
       "      <td>0</td>\n",
       "      <td>1</td>\n",
       "      <td>1</td>\n",
       "      <td>0</td>\n",
       "      <td>1</td>\n",
       "      <td>1</td>\n",
       "      <td>0</td>\n",
       "    </tr>\n",
       "    <tr>\n",
       "      <th>1</th>\n",
       "      <td>0</td>\n",
       "      <td>1</td>\n",
       "      <td>1</td>\n",
       "      <td>0</td>\n",
       "      <td>1</td>\n",
       "      <td>1</td>\n",
       "      <td>1</td>\n",
       "      <td>0</td>\n",
       "      <td>0</td>\n",
       "      <td>1</td>\n",
       "    </tr>\n",
       "    <tr>\n",
       "      <th>2</th>\n",
       "      <td>1</td>\n",
       "      <td>1</td>\n",
       "      <td>1</td>\n",
       "      <td>1</td>\n",
       "      <td>1</td>\n",
       "      <td>0</td>\n",
       "      <td>0</td>\n",
       "      <td>0</td>\n",
       "      <td>0</td>\n",
       "      <td>0</td>\n",
       "    </tr>\n",
       "  </tbody>\n",
       "</table>\n",
       "</div>"
      ],
      "text/plain": [
       "   so  harry  is  great  potter  movie  best  an  amzing  the\n",
       "0   0      1   1      0       1      1     0   1       1    0\n",
       "1   0      1   1      0       1      1     1   0       0    1\n",
       "2   1      1   1      1       1      0     0   0       0    0"
      ]
     },
     "execution_count": 24,
     "metadata": {},
     "output_type": "execute_result"
    }
   ],
   "source": [
    "bow2 = BOWrepresentation(all_words,doc2)\n",
    "bow3 = BOWrepresentation(all_words,doc3)\n",
    "df_bow = pd.DataFrame([bow1,bow2,bow3])\n",
    "df_bow"
   ]
  },
  {
   "cell_type": "markdown",
   "id": "01021abf",
   "metadata": {},
   "source": [
    "# Scikit Learn"
   ]
  },
  {
   "cell_type": "code",
   "execution_count": 35,
   "id": "be216b0a",
   "metadata": {},
   "outputs": [],
   "source": [
    "from sklearn.feature_extraction.text import CountVectorizer\n",
    "cv = CountVectorizer(binary = True)#Sentiment Classification\n",
    "doc1 = 'Harry Potter is an amzing movie !'\n",
    "doc2 = 'Harry Potter is the best movie !'\n",
    "doc3 = 'Harry Potter is so great !'\n",
    "cv_out = cv.fit_transform([doc1,doc2,doc3])"
   ]
  },
  {
   "cell_type": "code",
   "execution_count": 32,
   "id": "0ce50302",
   "metadata": {},
   "outputs": [
    {
     "data": {
      "text/plain": [
       "array([[1, 1, 0, 0, 1, 1, 1, 1, 0, 0],\n",
       "       [0, 0, 1, 0, 1, 1, 1, 1, 0, 1],\n",
       "       [0, 0, 0, 1, 1, 1, 0, 1, 1, 0]], dtype=int64)"
      ]
     },
     "execution_count": 32,
     "metadata": {},
     "output_type": "execute_result"
    }
   ],
   "source": [
    "cv_out.toarray()"
   ]
  },
  {
   "cell_type": "code",
   "execution_count": 36,
   "id": "a486a234",
   "metadata": {},
   "outputs": [
    {
     "data": {
      "text/html": [
       "<div>\n",
       "<style scoped>\n",
       "    .dataframe tbody tr th:only-of-type {\n",
       "        vertical-align: middle;\n",
       "    }\n",
       "\n",
       "    .dataframe tbody tr th {\n",
       "        vertical-align: top;\n",
       "    }\n",
       "\n",
       "    .dataframe thead th {\n",
       "        text-align: right;\n",
       "    }\n",
       "</style>\n",
       "<table border=\"1\" class=\"dataframe\">\n",
       "  <thead>\n",
       "    <tr style=\"text-align: right;\">\n",
       "      <th></th>\n",
       "      <th>amzing</th>\n",
       "      <th>an</th>\n",
       "      <th>best</th>\n",
       "      <th>great</th>\n",
       "      <th>harry</th>\n",
       "      <th>is</th>\n",
       "      <th>movie</th>\n",
       "      <th>potter</th>\n",
       "      <th>so</th>\n",
       "      <th>the</th>\n",
       "    </tr>\n",
       "  </thead>\n",
       "  <tbody>\n",
       "    <tr>\n",
       "      <th>0</th>\n",
       "      <td>1</td>\n",
       "      <td>1</td>\n",
       "      <td>0</td>\n",
       "      <td>0</td>\n",
       "      <td>1</td>\n",
       "      <td>1</td>\n",
       "      <td>1</td>\n",
       "      <td>1</td>\n",
       "      <td>0</td>\n",
       "      <td>0</td>\n",
       "    </tr>\n",
       "    <tr>\n",
       "      <th>1</th>\n",
       "      <td>0</td>\n",
       "      <td>0</td>\n",
       "      <td>1</td>\n",
       "      <td>0</td>\n",
       "      <td>1</td>\n",
       "      <td>1</td>\n",
       "      <td>1</td>\n",
       "      <td>1</td>\n",
       "      <td>0</td>\n",
       "      <td>1</td>\n",
       "    </tr>\n",
       "    <tr>\n",
       "      <th>2</th>\n",
       "      <td>0</td>\n",
       "      <td>0</td>\n",
       "      <td>0</td>\n",
       "      <td>1</td>\n",
       "      <td>1</td>\n",
       "      <td>1</td>\n",
       "      <td>0</td>\n",
       "      <td>1</td>\n",
       "      <td>1</td>\n",
       "      <td>0</td>\n",
       "    </tr>\n",
       "  </tbody>\n",
       "</table>\n",
       "</div>"
      ],
      "text/plain": [
       "   amzing  an  best  great  harry  is  movie  potter  so  the\n",
       "0       1   1     0      0      1   1      1       1   0    0\n",
       "1       0   0     1      0      1   1      1       1   0    1\n",
       "2       0   0     0      1      1   1      0       1   1    0"
      ]
     },
     "execution_count": 36,
     "metadata": {},
     "output_type": "execute_result"
    }
   ],
   "source": [
    "pd.DataFrame(cv_out.toarray(),columns = cv.get_feature_names_out())"
   ]
  },
  {
   "cell_type": "code",
   "execution_count": 38,
   "id": "df387879",
   "metadata": {},
   "outputs": [
    {
     "data": {
      "text/html": [
       "<div>\n",
       "<style scoped>\n",
       "    .dataframe tbody tr th:only-of-type {\n",
       "        vertical-align: middle;\n",
       "    }\n",
       "\n",
       "    .dataframe tbody tr th {\n",
       "        vertical-align: top;\n",
       "    }\n",
       "\n",
       "    .dataframe thead th {\n",
       "        text-align: right;\n",
       "    }\n",
       "</style>\n",
       "<table border=\"1\" class=\"dataframe\">\n",
       "  <thead>\n",
       "    <tr style=\"text-align: right;\">\n",
       "      <th></th>\n",
       "      <th>amazing</th>\n",
       "      <th>an</th>\n",
       "      <th>best</th>\n",
       "      <th>great</th>\n",
       "      <th>harry</th>\n",
       "      <th>is</th>\n",
       "      <th>movie</th>\n",
       "      <th>potter</th>\n",
       "      <th>so</th>\n",
       "      <th>the</th>\n",
       "    </tr>\n",
       "  </thead>\n",
       "  <tbody>\n",
       "    <tr>\n",
       "      <th>0</th>\n",
       "      <td>1</td>\n",
       "      <td>1</td>\n",
       "      <td>0</td>\n",
       "      <td>0</td>\n",
       "      <td>2</td>\n",
       "      <td>1</td>\n",
       "      <td>1</td>\n",
       "      <td>1</td>\n",
       "      <td>0</td>\n",
       "      <td>0</td>\n",
       "    </tr>\n",
       "    <tr>\n",
       "      <th>1</th>\n",
       "      <td>0</td>\n",
       "      <td>0</td>\n",
       "      <td>1</td>\n",
       "      <td>0</td>\n",
       "      <td>1</td>\n",
       "      <td>1</td>\n",
       "      <td>1</td>\n",
       "      <td>1</td>\n",
       "      <td>0</td>\n",
       "      <td>1</td>\n",
       "    </tr>\n",
       "    <tr>\n",
       "      <th>2</th>\n",
       "      <td>0</td>\n",
       "      <td>0</td>\n",
       "      <td>0</td>\n",
       "      <td>1</td>\n",
       "      <td>1</td>\n",
       "      <td>1</td>\n",
       "      <td>0</td>\n",
       "      <td>1</td>\n",
       "      <td>1</td>\n",
       "      <td>0</td>\n",
       "    </tr>\n",
       "  </tbody>\n",
       "</table>\n",
       "</div>"
      ],
      "text/plain": [
       "   amazing  an  best  great  harry  is  movie  potter  so  the\n",
       "0        1   1     0      0      2   1      1       1   0    0\n",
       "1        0   0     1      0      1   1      1       1   0    1\n",
       "2        0   0     0      1      1   1      0       1   1    0"
      ]
     },
     "execution_count": 38,
     "metadata": {},
     "output_type": "execute_result"
    }
   ],
   "source": [
    "from sklearn.feature_extraction.text import CountVectorizer\n",
    "cv = CountVectorizer() # Counting of how many times a word is being used\n",
    "doc1 = 'Harry Potter is an amazing movie , harry '\n",
    "doc2 = 'Harry Potter is the best movie !'\n",
    "doc3 = 'Harry Potter is so great !'\n",
    "cv_out = cv.fit_transform([doc1,doc2,doc3])\n",
    "pd.DataFrame(cv_out.toarray(),columns = cv.get_feature_names_out())"
   ]
  },
  {
   "cell_type": "markdown",
   "id": "64714b97",
   "metadata": {},
   "source": [
    "# TF-IDF"
   ]
  },
  {
   "cell_type": "code",
   "execution_count": 11,
   "id": "3f0e1093",
   "metadata": {
    "scrolled": true
   },
   "outputs": [
    {
     "data": {
      "text/plain": [
       "{'Data',\n",
       " 'Deep',\n",
       " 'Science',\n",
       " 'a',\n",
       " 'amazing',\n",
       " 'an',\n",
       " 'career',\n",
       " 'current',\n",
       " 'in',\n",
       " 'is',\n",
       " 'learning',\n",
       " 'machine',\n",
       " 'of',\n",
       " 'subset',\n",
       " 'the',\n",
       " 'world'}"
      ]
     },
     "execution_count": 11,
     "metadata": {},
     "output_type": "execute_result"
    }
   ],
   "source": [
    "# Important - when a word is repeated in a document, but not present in any other document (sentence)\n",
    "# stopwords - score will be less\n",
    "# unique words repeat in a sentence will be high\n",
    "\n",
    "import pandas as pd\n",
    "from math import *\n",
    "import sklearn\n",
    "\n",
    "first_sent = \"Data Science is an amazing career in the current world\"\n",
    "second_sent = \"Deep learning is a subset of machine learning\"\n",
    "\n",
    "first_sent = first_sent.split(\" \")\n",
    "second_sent = second_sent.split(' ')\n",
    "vocab = set(first_sent).union(set(second_sent))\n",
    "vocab"
   ]
  },
  {
   "cell_type": "code",
   "execution_count": 12,
   "id": "5dcb73ca",
   "metadata": {},
   "outputs": [
    {
     "data": {
      "text/plain": [
       "{'in': 0,\n",
       " 'an': 0,\n",
       " 'Data': 0,\n",
       " 'machine': 0,\n",
       " 'learning': 0,\n",
       " 'Science': 0,\n",
       " 'is': 0,\n",
       " 'a': 0,\n",
       " 'the': 0,\n",
       " 'amazing': 0,\n",
       " 'Deep': 0,\n",
       " 'subset': 0,\n",
       " 'current': 0,\n",
       " 'of': 0,\n",
       " 'world': 0,\n",
       " 'career': 0}"
      ]
     },
     "execution_count": 12,
     "metadata": {},
     "output_type": "execute_result"
    }
   ],
   "source": [
    "# dict.fromkeys() là một phương thức được sử dụng để tạo một từ điển (dictionary) mới từ một danh sách các khóa (keys) \n",
    "# được chỉ định và giá trị mặc định cho tất cả các khóa đó.\n",
    "wordDict1 = dict.fromkeys(vocab,0)\n",
    "wordDict2 = dict.fromkeys(vocab,0)\n",
    "wordDict1"
   ]
  },
  {
   "cell_type": "code",
   "execution_count": 13,
   "id": "9d26ef59",
   "metadata": {},
   "outputs": [
    {
     "data": {
      "text/plain": [
       "{'in': 0,\n",
       " 'an': 0,\n",
       " 'Data': 0,\n",
       " 'machine': 0,\n",
       " 'learning': 0,\n",
       " 'Science': 0,\n",
       " 'is': 0,\n",
       " 'a': 0,\n",
       " 'the': 0,\n",
       " 'amazing': 0,\n",
       " 'Deep': 0,\n",
       " 'subset': 0,\n",
       " 'current': 0,\n",
       " 'of': 0,\n",
       " 'world': 0,\n",
       " 'career': 0}"
      ]
     },
     "execution_count": 13,
     "metadata": {},
     "output_type": "execute_result"
    }
   ],
   "source": [
    "wordDict2"
   ]
  },
  {
   "cell_type": "code",
   "execution_count": 14,
   "id": "36a4da50",
   "metadata": {},
   "outputs": [],
   "source": [
    "for word in first_sent:\n",
    "    wordDict1[word]+=1\n",
    "for word in second_sent:\n",
    "    wordDict2[word]+=1"
   ]
  },
  {
   "cell_type": "code",
   "execution_count": 15,
   "id": "da3aad16",
   "metadata": {},
   "outputs": [
    {
     "data": {
      "text/plain": [
       "{'in': 1,\n",
       " 'an': 1,\n",
       " 'Data': 1,\n",
       " 'machine': 0,\n",
       " 'learning': 0,\n",
       " 'Science': 1,\n",
       " 'is': 1,\n",
       " 'a': 0,\n",
       " 'the': 1,\n",
       " 'amazing': 1,\n",
       " 'Deep': 0,\n",
       " 'subset': 0,\n",
       " 'current': 1,\n",
       " 'of': 0,\n",
       " 'world': 1,\n",
       " 'career': 1}"
      ]
     },
     "execution_count": 15,
     "metadata": {},
     "output_type": "execute_result"
    }
   ],
   "source": [
    "wordDict1"
   ]
  },
  {
   "cell_type": "code",
   "execution_count": 17,
   "id": "5ef5f6d8",
   "metadata": {},
   "outputs": [
    {
     "data": {
      "text/plain": [
       "{'in': 0,\n",
       " 'an': 0,\n",
       " 'Data': 0,\n",
       " 'machine': 1,\n",
       " 'learning': 2,\n",
       " 'Science': 0,\n",
       " 'is': 1,\n",
       " 'a': 1,\n",
       " 'the': 0,\n",
       " 'amazing': 0,\n",
       " 'Deep': 1,\n",
       " 'subset': 1,\n",
       " 'current': 0,\n",
       " 'of': 1,\n",
       " 'world': 0,\n",
       " 'career': 0}"
      ]
     },
     "execution_count": 17,
     "metadata": {},
     "output_type": "execute_result"
    }
   ],
   "source": [
    "wordDict2"
   ]
  },
  {
   "cell_type": "code",
   "execution_count": 18,
   "id": "9628c251",
   "metadata": {},
   "outputs": [
    {
     "data": {
      "text/html": [
       "<div>\n",
       "<style scoped>\n",
       "    .dataframe tbody tr th:only-of-type {\n",
       "        vertical-align: middle;\n",
       "    }\n",
       "\n",
       "    .dataframe tbody tr th {\n",
       "        vertical-align: top;\n",
       "    }\n",
       "\n",
       "    .dataframe thead th {\n",
       "        text-align: right;\n",
       "    }\n",
       "</style>\n",
       "<table border=\"1\" class=\"dataframe\">\n",
       "  <thead>\n",
       "    <tr style=\"text-align: right;\">\n",
       "      <th></th>\n",
       "      <th>in</th>\n",
       "      <th>an</th>\n",
       "      <th>Data</th>\n",
       "      <th>machine</th>\n",
       "      <th>learning</th>\n",
       "      <th>Science</th>\n",
       "      <th>is</th>\n",
       "      <th>a</th>\n",
       "      <th>the</th>\n",
       "      <th>amazing</th>\n",
       "      <th>Deep</th>\n",
       "      <th>subset</th>\n",
       "      <th>current</th>\n",
       "      <th>of</th>\n",
       "      <th>world</th>\n",
       "      <th>career</th>\n",
       "    </tr>\n",
       "  </thead>\n",
       "  <tbody>\n",
       "    <tr>\n",
       "      <th>0</th>\n",
       "      <td>1</td>\n",
       "      <td>1</td>\n",
       "      <td>1</td>\n",
       "      <td>0</td>\n",
       "      <td>0</td>\n",
       "      <td>1</td>\n",
       "      <td>1</td>\n",
       "      <td>0</td>\n",
       "      <td>1</td>\n",
       "      <td>1</td>\n",
       "      <td>0</td>\n",
       "      <td>0</td>\n",
       "      <td>1</td>\n",
       "      <td>0</td>\n",
       "      <td>1</td>\n",
       "      <td>1</td>\n",
       "    </tr>\n",
       "    <tr>\n",
       "      <th>1</th>\n",
       "      <td>0</td>\n",
       "      <td>0</td>\n",
       "      <td>0</td>\n",
       "      <td>1</td>\n",
       "      <td>2</td>\n",
       "      <td>0</td>\n",
       "      <td>1</td>\n",
       "      <td>1</td>\n",
       "      <td>0</td>\n",
       "      <td>0</td>\n",
       "      <td>1</td>\n",
       "      <td>1</td>\n",
       "      <td>0</td>\n",
       "      <td>1</td>\n",
       "      <td>0</td>\n",
       "      <td>0</td>\n",
       "    </tr>\n",
       "  </tbody>\n",
       "</table>\n",
       "</div>"
      ],
      "text/plain": [
       "   in  an  Data  machine  learning  Science  is  a  the  amazing  Deep  \\\n",
       "0   1   1     1        0         0        1   1  0    1        1     0   \n",
       "1   0   0     0        1         2        0   1  1    0        0     1   \n",
       "\n",
       "   subset  current  of  world  career  \n",
       "0       0        1   0      1       1  \n",
       "1       1        0   1      0       0  "
      ]
     },
     "execution_count": 18,
     "metadata": {},
     "output_type": "execute_result"
    }
   ],
   "source": [
    "df = pd.DataFrame([wordDict1,wordDict2])\n",
    "df"
   ]
  },
  {
   "cell_type": "code",
   "execution_count": 19,
   "id": "a0b98297",
   "metadata": {},
   "outputs": [],
   "source": [
    "# tf = freq of a word in a document/total number of words in a document\n",
    "def calculate (wordDict, doc):\n",
    "    tfDict = {}\n",
    "    len_corpus = len(doc)\n",
    "    for word,count in wordDict.items():\n",
    "        tfDict[word] = count/len_corpus\n",
    "    return tfDict"
   ]
  },
  {
   "cell_type": "code",
   "execution_count": 26,
   "id": "71ec01d4",
   "metadata": {},
   "outputs": [
    {
     "data": {
      "text/html": [
       "<div>\n",
       "<style scoped>\n",
       "    .dataframe tbody tr th:only-of-type {\n",
       "        vertical-align: middle;\n",
       "    }\n",
       "\n",
       "    .dataframe tbody tr th {\n",
       "        vertical-align: top;\n",
       "    }\n",
       "\n",
       "    .dataframe thead th {\n",
       "        text-align: right;\n",
       "    }\n",
       "</style>\n",
       "<table border=\"1\" class=\"dataframe\">\n",
       "  <thead>\n",
       "    <tr style=\"text-align: right;\">\n",
       "      <th></th>\n",
       "      <th>in</th>\n",
       "      <th>an</th>\n",
       "      <th>Data</th>\n",
       "      <th>machine</th>\n",
       "      <th>learning</th>\n",
       "      <th>Science</th>\n",
       "      <th>is</th>\n",
       "      <th>a</th>\n",
       "      <th>the</th>\n",
       "      <th>amazing</th>\n",
       "      <th>Deep</th>\n",
       "      <th>subset</th>\n",
       "      <th>current</th>\n",
       "      <th>of</th>\n",
       "      <th>world</th>\n",
       "      <th>career</th>\n",
       "    </tr>\n",
       "  </thead>\n",
       "  <tbody>\n",
       "    <tr>\n",
       "      <th>0</th>\n",
       "      <td>0.1</td>\n",
       "      <td>0.1</td>\n",
       "      <td>0.1</td>\n",
       "      <td>0.000</td>\n",
       "      <td>0.00</td>\n",
       "      <td>0.1</td>\n",
       "      <td>0.100</td>\n",
       "      <td>0.000</td>\n",
       "      <td>0.1</td>\n",
       "      <td>0.1</td>\n",
       "      <td>0.000</td>\n",
       "      <td>0.000</td>\n",
       "      <td>0.1</td>\n",
       "      <td>0.000</td>\n",
       "      <td>0.1</td>\n",
       "      <td>0.1</td>\n",
       "    </tr>\n",
       "    <tr>\n",
       "      <th>1</th>\n",
       "      <td>0.0</td>\n",
       "      <td>0.0</td>\n",
       "      <td>0.0</td>\n",
       "      <td>0.125</td>\n",
       "      <td>0.25</td>\n",
       "      <td>0.0</td>\n",
       "      <td>0.125</td>\n",
       "      <td>0.125</td>\n",
       "      <td>0.0</td>\n",
       "      <td>0.0</td>\n",
       "      <td>0.125</td>\n",
       "      <td>0.125</td>\n",
       "      <td>0.0</td>\n",
       "      <td>0.125</td>\n",
       "      <td>0.0</td>\n",
       "      <td>0.0</td>\n",
       "    </tr>\n",
       "  </tbody>\n",
       "</table>\n",
       "</div>"
      ],
      "text/plain": [
       "    in   an  Data  machine  learning  Science     is      a  the  amazing  \\\n",
       "0  0.1  0.1   0.1    0.000      0.00      0.1  0.100  0.000  0.1      0.1   \n",
       "1  0.0  0.0   0.0    0.125      0.25      0.0  0.125  0.125  0.0      0.0   \n",
       "\n",
       "    Deep  subset  current     of  world  career  \n",
       "0  0.000   0.000      0.1  0.000    0.1     0.1  \n",
       "1  0.125   0.125      0.0  0.125    0.0     0.0  "
      ]
     },
     "execution_count": 26,
     "metadata": {},
     "output_type": "execute_result"
    }
   ],
   "source": [
    "tf1 = calculate(wordDict1,first_sent)\n",
    "tf2 = calculate(wordDict2,second_sent)\n",
    "pf1 = pd.DataFrame([tf1,tf2])\n",
    "pf1"
   ]
  },
  {
   "cell_type": "code",
   "execution_count": 29,
   "id": "0a244a8b",
   "metadata": {},
   "outputs": [
    {
     "data": {
      "text/plain": [
       "['i',\n",
       " 'me',\n",
       " 'my',\n",
       " 'myself',\n",
       " 'we',\n",
       " 'our',\n",
       " 'ours',\n",
       " 'ourselves',\n",
       " 'you',\n",
       " \"you're\",\n",
       " \"you've\",\n",
       " \"you'll\",\n",
       " \"you'd\",\n",
       " 'your',\n",
       " 'yours',\n",
       " 'yourself',\n",
       " 'yourselves',\n",
       " 'he',\n",
       " 'him',\n",
       " 'his',\n",
       " 'himself',\n",
       " 'she',\n",
       " \"she's\",\n",
       " 'her',\n",
       " 'hers',\n",
       " 'herself',\n",
       " 'it',\n",
       " \"it's\",\n",
       " 'its',\n",
       " 'itself',\n",
       " 'they',\n",
       " 'them',\n",
       " 'their',\n",
       " 'theirs',\n",
       " 'themselves',\n",
       " 'what',\n",
       " 'which',\n",
       " 'who',\n",
       " 'whom',\n",
       " 'this',\n",
       " 'that',\n",
       " \"that'll\",\n",
       " 'these',\n",
       " 'those',\n",
       " 'am',\n",
       " 'is',\n",
       " 'are',\n",
       " 'was',\n",
       " 'were',\n",
       " 'be',\n",
       " 'been',\n",
       " 'being',\n",
       " 'have',\n",
       " 'has',\n",
       " 'had',\n",
       " 'having',\n",
       " 'do',\n",
       " 'does',\n",
       " 'did',\n",
       " 'doing',\n",
       " 'a',\n",
       " 'an',\n",
       " 'the',\n",
       " 'and',\n",
       " 'but',\n",
       " 'if',\n",
       " 'or',\n",
       " 'because',\n",
       " 'as',\n",
       " 'until',\n",
       " 'while',\n",
       " 'of',\n",
       " 'at',\n",
       " 'by',\n",
       " 'for',\n",
       " 'with',\n",
       " 'about',\n",
       " 'against',\n",
       " 'between',\n",
       " 'into',\n",
       " 'through',\n",
       " 'during',\n",
       " 'before',\n",
       " 'after',\n",
       " 'above',\n",
       " 'below',\n",
       " 'to',\n",
       " 'from',\n",
       " 'up',\n",
       " 'down',\n",
       " 'in',\n",
       " 'out',\n",
       " 'on',\n",
       " 'off',\n",
       " 'over',\n",
       " 'under',\n",
       " 'again',\n",
       " 'further',\n",
       " 'then',\n",
       " 'once',\n",
       " 'here',\n",
       " 'there',\n",
       " 'when',\n",
       " 'where',\n",
       " 'why',\n",
       " 'how',\n",
       " 'all',\n",
       " 'any',\n",
       " 'both',\n",
       " 'each',\n",
       " 'few',\n",
       " 'more',\n",
       " 'most',\n",
       " 'other',\n",
       " 'some',\n",
       " 'such',\n",
       " 'no',\n",
       " 'nor',\n",
       " 'not',\n",
       " 'only',\n",
       " 'own',\n",
       " 'same',\n",
       " 'so',\n",
       " 'than',\n",
       " 'too',\n",
       " 'very',\n",
       " 's',\n",
       " 't',\n",
       " 'can',\n",
       " 'will',\n",
       " 'just',\n",
       " 'don',\n",
       " \"don't\",\n",
       " 'should',\n",
       " \"should've\",\n",
       " 'now',\n",
       " 'd',\n",
       " 'll',\n",
       " 'm',\n",
       " 'o',\n",
       " 're',\n",
       " 've',\n",
       " 'y',\n",
       " 'ain',\n",
       " 'aren',\n",
       " \"aren't\",\n",
       " 'couldn',\n",
       " \"couldn't\",\n",
       " 'didn',\n",
       " \"didn't\",\n",
       " 'doesn',\n",
       " \"doesn't\",\n",
       " 'hadn',\n",
       " \"hadn't\",\n",
       " 'hasn',\n",
       " \"hasn't\",\n",
       " 'haven',\n",
       " \"haven't\",\n",
       " 'isn',\n",
       " \"isn't\",\n",
       " 'ma',\n",
       " 'mightn',\n",
       " \"mightn't\",\n",
       " 'mustn',\n",
       " \"mustn't\",\n",
       " 'needn',\n",
       " \"needn't\",\n",
       " 'shan',\n",
       " \"shan't\",\n",
       " 'shouldn',\n",
       " \"shouldn't\",\n",
       " 'wasn',\n",
       " \"wasn't\",\n",
       " 'weren',\n",
       " \"weren't\",\n",
       " 'won',\n",
       " \"won't\",\n",
       " 'wouldn',\n",
       " \"wouldn't\"]"
      ]
     },
     "execution_count": 29,
     "metadata": {},
     "output_type": "execute_result"
    }
   ],
   "source": [
    "import nltk \n",
    "from nltk.corpus import stopwords\n",
    "stopwords.words('english')"
   ]
  },
  {
   "cell_type": "code",
   "execution_count": 35,
   "id": "8ae5639e",
   "metadata": {},
   "outputs": [],
   "source": [
    "f1 = [word for word in wordDict1 if word.lower() not in stopwords.words('english')]\n",
    "f2 = [word for word in wordDict2 if word.lower() not in stopwords.words('english')]"
   ]
  },
  {
   "cell_type": "code",
   "execution_count": 36,
   "id": "be3a47f1",
   "metadata": {},
   "outputs": [
    {
     "data": {
      "text/plain": [
       "['Data',\n",
       " 'machine',\n",
       " 'learning',\n",
       " 'Science',\n",
       " 'amazing',\n",
       " 'Deep',\n",
       " 'subset',\n",
       " 'current',\n",
       " 'world',\n",
       " 'career']"
      ]
     },
     "execution_count": 36,
     "metadata": {},
     "output_type": "execute_result"
    }
   ],
   "source": [
    "f1"
   ]
  },
  {
   "cell_type": "code",
   "execution_count": 34,
   "id": "33ee119d",
   "metadata": {},
   "outputs": [
    {
     "data": {
      "text/plain": [
       "['Data',\n",
       " 'machine',\n",
       " 'learning',\n",
       " 'Science',\n",
       " 'amazing',\n",
       " 'Deep',\n",
       " 'subset',\n",
       " 'current',\n",
       " 'world',\n",
       " 'career']"
      ]
     },
     "execution_count": 34,
     "metadata": {},
     "output_type": "execute_result"
    }
   ],
   "source": [
    "f2"
   ]
  },
  {
   "cell_type": "code",
   "execution_count": 47,
   "id": "8f46fe22",
   "metadata": {},
   "outputs": [],
   "source": [
    "def calculateIDF(doc):\n",
    "    idfDict = {}\n",
    "    len_corpus = len(doc)\n",
    "    idfDict = dict.fromkeys(doc[0].keys(),0)\n",
    "    for word,val in idfDict.items():\n",
    "        idfDict[word] = log10(len_corpus/(float(val)+1))\n",
    "    return idfDict"
   ]
  },
  {
   "cell_type": "code",
   "execution_count": 48,
   "id": "317739ea",
   "metadata": {},
   "outputs": [
    {
     "data": {
      "text/plain": [
       "{'in': 0.3010299956639812,\n",
       " 'an': 0.3010299956639812,\n",
       " 'Data': 0.3010299956639812,\n",
       " 'machine': 0.3010299956639812,\n",
       " 'learning': 0.3010299956639812,\n",
       " 'Science': 0.3010299956639812,\n",
       " 'is': 0.3010299956639812,\n",
       " 'a': 0.3010299956639812,\n",
       " 'the': 0.3010299956639812,\n",
       " 'amazing': 0.3010299956639812,\n",
       " 'Deep': 0.3010299956639812,\n",
       " 'subset': 0.3010299956639812,\n",
       " 'current': 0.3010299956639812,\n",
       " 'of': 0.3010299956639812,\n",
       " 'world': 0.3010299956639812,\n",
       " 'career': 0.3010299956639812}"
      ]
     },
     "execution_count": 48,
     "metadata": {},
     "output_type": "execute_result"
    }
   ],
   "source": [
    "idfs = calculateIDF([wordDict1,wordDict2])\n",
    "idfs"
   ]
  },
  {
   "cell_type": "code",
   "execution_count": 49,
   "id": "3f736ab9",
   "metadata": {},
   "outputs": [],
   "source": [
    "def computeTFIDF(tfBow,idfs):\n",
    "    tfidf = {}\n",
    "    for word,val in tfBow.items():\n",
    "        tfidf[word] = val*idfs[word]\n",
    "    return (tfidf)"
   ]
  },
  {
   "cell_type": "code",
   "execution_count": 51,
   "id": "cf187aad",
   "metadata": {},
   "outputs": [
    {
     "data": {
      "text/html": [
       "<div>\n",
       "<style scoped>\n",
       "    .dataframe tbody tr th:only-of-type {\n",
       "        vertical-align: middle;\n",
       "    }\n",
       "\n",
       "    .dataframe tbody tr th {\n",
       "        vertical-align: top;\n",
       "    }\n",
       "\n",
       "    .dataframe thead th {\n",
       "        text-align: right;\n",
       "    }\n",
       "</style>\n",
       "<table border=\"1\" class=\"dataframe\">\n",
       "  <thead>\n",
       "    <tr style=\"text-align: right;\">\n",
       "      <th></th>\n",
       "      <th>in</th>\n",
       "      <th>an</th>\n",
       "      <th>Data</th>\n",
       "      <th>machine</th>\n",
       "      <th>learning</th>\n",
       "      <th>Science</th>\n",
       "      <th>is</th>\n",
       "      <th>a</th>\n",
       "      <th>the</th>\n",
       "      <th>amazing</th>\n",
       "      <th>Deep</th>\n",
       "      <th>subset</th>\n",
       "      <th>current</th>\n",
       "      <th>of</th>\n",
       "      <th>world</th>\n",
       "      <th>career</th>\n",
       "    </tr>\n",
       "  </thead>\n",
       "  <tbody>\n",
       "    <tr>\n",
       "      <th>0</th>\n",
       "      <td>0.030103</td>\n",
       "      <td>0.030103</td>\n",
       "      <td>0.030103</td>\n",
       "      <td>0.000000</td>\n",
       "      <td>0.000000</td>\n",
       "      <td>0.030103</td>\n",
       "      <td>0.030103</td>\n",
       "      <td>0.000000</td>\n",
       "      <td>0.030103</td>\n",
       "      <td>0.030103</td>\n",
       "      <td>0.000000</td>\n",
       "      <td>0.000000</td>\n",
       "      <td>0.030103</td>\n",
       "      <td>0.000000</td>\n",
       "      <td>0.030103</td>\n",
       "      <td>0.030103</td>\n",
       "    </tr>\n",
       "    <tr>\n",
       "      <th>1</th>\n",
       "      <td>0.000000</td>\n",
       "      <td>0.000000</td>\n",
       "      <td>0.000000</td>\n",
       "      <td>0.037629</td>\n",
       "      <td>0.075257</td>\n",
       "      <td>0.000000</td>\n",
       "      <td>0.037629</td>\n",
       "      <td>0.037629</td>\n",
       "      <td>0.000000</td>\n",
       "      <td>0.000000</td>\n",
       "      <td>0.037629</td>\n",
       "      <td>0.037629</td>\n",
       "      <td>0.000000</td>\n",
       "      <td>0.037629</td>\n",
       "      <td>0.000000</td>\n",
       "      <td>0.000000</td>\n",
       "    </tr>\n",
       "  </tbody>\n",
       "</table>\n",
       "</div>"
      ],
      "text/plain": [
       "         in        an      Data   machine  learning   Science        is  \\\n",
       "0  0.030103  0.030103  0.030103  0.000000  0.000000  0.030103  0.030103   \n",
       "1  0.000000  0.000000  0.000000  0.037629  0.075257  0.000000  0.037629   \n",
       "\n",
       "          a       the   amazing      Deep    subset   current        of  \\\n",
       "0  0.000000  0.030103  0.030103  0.000000  0.000000  0.030103  0.000000   \n",
       "1  0.037629  0.000000  0.000000  0.037629  0.037629  0.000000  0.037629   \n",
       "\n",
       "      world    career  \n",
       "0  0.030103  0.030103  \n",
       "1  0.000000  0.000000  "
      ]
     },
     "execution_count": 51,
     "metadata": {},
     "output_type": "execute_result"
    }
   ],
   "source": [
    "idf1 =  computeTFIDF(tf1,idfs)\n",
    "idf2 = computeTFIDF(tf2,idfs)\n",
    "idf = pd.DataFrame([idf1,idf2])\n",
    "idf"
   ]
  },
  {
   "cell_type": "markdown",
   "id": "3c9ea9ae",
   "metadata": {},
   "source": [
    "# Sklear Library"
   ]
  },
  {
   "cell_type": "code",
   "execution_count": 59,
   "id": "29348ddc",
   "metadata": {},
   "outputs": [
    {
     "data": {
      "text/html": [
       "<div>\n",
       "<style scoped>\n",
       "    .dataframe tbody tr th:only-of-type {\n",
       "        vertical-align: middle;\n",
       "    }\n",
       "\n",
       "    .dataframe tbody tr th {\n",
       "        vertical-align: top;\n",
       "    }\n",
       "\n",
       "    .dataframe thead th {\n",
       "        text-align: right;\n",
       "    }\n",
       "</style>\n",
       "<table border=\"1\" class=\"dataframe\">\n",
       "  <thead>\n",
       "    <tr style=\"text-align: right;\">\n",
       "      <th></th>\n",
       "      <th>amazing</th>\n",
       "      <th>an</th>\n",
       "      <th>carreer</th>\n",
       "      <th>cuurent</th>\n",
       "      <th>data</th>\n",
       "      <th>deep</th>\n",
       "      <th>in</th>\n",
       "      <th>is</th>\n",
       "      <th>learning</th>\n",
       "      <th>machine</th>\n",
       "      <th>of</th>\n",
       "      <th>science</th>\n",
       "      <th>subset</th>\n",
       "      <th>the</th>\n",
       "      <th>world</th>\n",
       "    </tr>\n",
       "  </thead>\n",
       "  <tbody>\n",
       "    <tr>\n",
       "      <th>0</th>\n",
       "      <td>0.324336</td>\n",
       "      <td>0.324336</td>\n",
       "      <td>0.324336</td>\n",
       "      <td>0.324336</td>\n",
       "      <td>0.324336</td>\n",
       "      <td>0.000000</td>\n",
       "      <td>0.324336</td>\n",
       "      <td>0.230768</td>\n",
       "      <td>0.000000</td>\n",
       "      <td>0.000000</td>\n",
       "      <td>0.000000</td>\n",
       "      <td>0.324336</td>\n",
       "      <td>0.000000</td>\n",
       "      <td>0.324336</td>\n",
       "      <td>0.324336</td>\n",
       "    </tr>\n",
       "    <tr>\n",
       "      <th>1</th>\n",
       "      <td>0.000000</td>\n",
       "      <td>0.000000</td>\n",
       "      <td>0.000000</td>\n",
       "      <td>0.000000</td>\n",
       "      <td>0.000000</td>\n",
       "      <td>0.342871</td>\n",
       "      <td>0.000000</td>\n",
       "      <td>0.243956</td>\n",
       "      <td>0.685743</td>\n",
       "      <td>0.342871</td>\n",
       "      <td>0.342871</td>\n",
       "      <td>0.000000</td>\n",
       "      <td>0.342871</td>\n",
       "      <td>0.000000</td>\n",
       "      <td>0.000000</td>\n",
       "    </tr>\n",
       "  </tbody>\n",
       "</table>\n",
       "</div>"
      ],
      "text/plain": [
       "    amazing        an   carreer   cuurent      data      deep        in  \\\n",
       "0  0.324336  0.324336  0.324336  0.324336  0.324336  0.000000  0.324336   \n",
       "1  0.000000  0.000000  0.000000  0.000000  0.000000  0.342871  0.000000   \n",
       "\n",
       "         is  learning   machine        of   science    subset       the  \\\n",
       "0  0.230768  0.000000  0.000000  0.000000  0.324336  0.000000  0.324336   \n",
       "1  0.243956  0.685743  0.342871  0.342871  0.000000  0.342871  0.000000   \n",
       "\n",
       "      world  \n",
       "0  0.324336  \n",
       "1  0.000000  "
      ]
     },
     "execution_count": 59,
     "metadata": {},
     "output_type": "execute_result"
    }
   ],
   "source": [
    "from sklearn.feature_extraction.text import TfidfVectorizer\n",
    "first_sent = \"Data Science is an amazing carreer in the  cuurent world\"\n",
    "second_sent = \"Deep Learning is a subset of machine learning\"\n",
    "vec= TfidfVectorizer()\n",
    "result = vec.fit_transform([first_sent,second_sent])\n",
    "result.toarray()\n",
    "ps = pd.DataFrame(result.toarray(), columns = vec.get_feature_names_out())\n",
    "ps"
   ]
  },
  {
   "cell_type": "markdown",
   "id": "7b767fbe",
   "metadata": {},
   "source": [
    "# TF_IDF Sratch Implementation"
   ]
  },
  {
   "cell_type": "code",
   "execution_count": 60,
   "id": "836fc884",
   "metadata": {},
   "outputs": [],
   "source": [
    "from collections import Counter\n",
    "from tqdm import tqdm\n",
    "from scipy.sparse import csr_matrix\n",
    "import math\n",
    "import operator\n",
    "from sklearn.preprocessing import normalize\n",
    "import numpy as np"
   ]
  },
  {
   "cell_type": "code",
   "execution_count": 66,
   "id": "16a59630",
   "metadata": {},
   "outputs": [
    {
     "data": {
      "text/html": [
       "<div>\n",
       "<style scoped>\n",
       "    .dataframe tbody tr th:only-of-type {\n",
       "        vertical-align: middle;\n",
       "    }\n",
       "\n",
       "    .dataframe tbody tr th {\n",
       "        vertical-align: top;\n",
       "    }\n",
       "\n",
       "    .dataframe thead th {\n",
       "        text-align: right;\n",
       "    }\n",
       "</style>\n",
       "<table border=\"1\" class=\"dataframe\">\n",
       "  <thead>\n",
       "    <tr style=\"text-align: right;\">\n",
       "      <th></th>\n",
       "      <th>and</th>\n",
       "      <th>document</th>\n",
       "      <th>first</th>\n",
       "      <th>is</th>\n",
       "      <th>one</th>\n",
       "      <th>second</th>\n",
       "      <th>the</th>\n",
       "      <th>third</th>\n",
       "      <th>this</th>\n",
       "    </tr>\n",
       "  </thead>\n",
       "  <tbody>\n",
       "    <tr>\n",
       "      <th>0</th>\n",
       "      <td>0.000000</td>\n",
       "      <td>0.469791</td>\n",
       "      <td>0.580286</td>\n",
       "      <td>0.384085</td>\n",
       "      <td>0.000000</td>\n",
       "      <td>0.000000</td>\n",
       "      <td>0.384085</td>\n",
       "      <td>0.000000</td>\n",
       "      <td>0.384085</td>\n",
       "    </tr>\n",
       "    <tr>\n",
       "      <th>1</th>\n",
       "      <td>0.000000</td>\n",
       "      <td>0.687624</td>\n",
       "      <td>0.000000</td>\n",
       "      <td>0.281089</td>\n",
       "      <td>0.000000</td>\n",
       "      <td>0.538648</td>\n",
       "      <td>0.281089</td>\n",
       "      <td>0.000000</td>\n",
       "      <td>0.281089</td>\n",
       "    </tr>\n",
       "    <tr>\n",
       "      <th>2</th>\n",
       "      <td>0.511849</td>\n",
       "      <td>0.000000</td>\n",
       "      <td>0.000000</td>\n",
       "      <td>0.267104</td>\n",
       "      <td>0.511849</td>\n",
       "      <td>0.000000</td>\n",
       "      <td>0.267104</td>\n",
       "      <td>0.511849</td>\n",
       "      <td>0.267104</td>\n",
       "    </tr>\n",
       "    <tr>\n",
       "      <th>3</th>\n",
       "      <td>0.000000</td>\n",
       "      <td>0.469791</td>\n",
       "      <td>0.580286</td>\n",
       "      <td>0.384085</td>\n",
       "      <td>0.000000</td>\n",
       "      <td>0.000000</td>\n",
       "      <td>0.384085</td>\n",
       "      <td>0.000000</td>\n",
       "      <td>0.384085</td>\n",
       "    </tr>\n",
       "  </tbody>\n",
       "</table>\n",
       "</div>"
      ],
      "text/plain": [
       "        and  document     first        is       one    second       the  \\\n",
       "0  0.000000  0.469791  0.580286  0.384085  0.000000  0.000000  0.384085   \n",
       "1  0.000000  0.687624  0.000000  0.281089  0.000000  0.538648  0.281089   \n",
       "2  0.511849  0.000000  0.000000  0.267104  0.511849  0.000000  0.267104   \n",
       "3  0.000000  0.469791  0.580286  0.384085  0.000000  0.000000  0.384085   \n",
       "\n",
       "      third      this  \n",
       "0  0.000000  0.384085  \n",
       "1  0.000000  0.281089  \n",
       "2  0.511849  0.267104  \n",
       "3  0.000000  0.384085  "
      ]
     },
     "execution_count": 66,
     "metadata": {},
     "output_type": "execute_result"
    }
   ],
   "source": [
    "# corpus là một collection chứa các nhiều các văn bản\n",
    "corpus = ['this is the first document','this document is the second document'\n",
    "         ,'and this is the third one','is this the first document']\n",
    "from sklearn.feature_extraction.text import TfidfVectorizer\n",
    "vec = TfidfVectorizer()\n",
    "result = vec.fit_transform(corpus).toarray()\n",
    "ps = pd.DataFrame(result, columns = vec.get_feature_names_out())\n",
    "ps"
   ]
  }
 ],
 "metadata": {
  "kernelspec": {
   "display_name": "Python 3 (ipykernel)",
   "language": "python",
   "name": "python3"
  },
  "language_info": {
   "codemirror_mode": {
    "name": "ipython",
    "version": 3
   },
   "file_extension": ".py",
   "mimetype": "text/x-python",
   "name": "python",
   "nbconvert_exporter": "python",
   "pygments_lexer": "ipython3",
   "version": "3.11.5"
  }
 },
 "nbformat": 4,
 "nbformat_minor": 5
}
